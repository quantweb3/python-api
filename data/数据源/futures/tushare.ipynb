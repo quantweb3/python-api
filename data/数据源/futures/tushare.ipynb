{
 "cells": [
  {
   "cell_type": "code",
   "execution_count": 9,
   "metadata": {},
   "outputs": [
    {
     "name": "stdout",
     "output_type": "stream",
     "text": [
      "     ts_code trade_date   open   high    low  close  pre_close  change  \\\n",
      "0  000001.SZ   20190903  14.48  14.51  14.25  14.30      14.45   -0.15   \n",
      "1  000001.SZ   20190902  14.15  14.50  14.11  14.45      14.16    0.29   \n",
      "\n",
      "   pct_chg         vol       amount  \n",
      "0  -1.0381   858653.65  1230606.485  \n",
      "1   2.0480  1360201.30  1955673.136  \n"
     ]
    }
   ],
   "source": [
    "import tushare as ts\n",
    "ts.set_token('67990a36f3c9c0d5aac18599082f18fb4304a84728d49ab04a95613f')\n",
    "pro = ts.pro_api()\n",
    "df = ts.pro_bar(ts_code='000001.SZ', adj='qfq', start_date='2019-09-01 09:00:00', end_date='2019-09-13 09:00:00')\n",
    "print(df)\n"
   ]
  },
  {
   "cell_type": "code",
   "execution_count": null,
   "metadata": {},
   "outputs": [],
   "source": []
  }
 ],
 "metadata": {
  "kernelspec": {
   "display_name": "chanlun",
   "language": "python",
   "name": "python3"
  },
  "language_info": {
   "codemirror_mode": {
    "name": "ipython",
    "version": 3
   },
   "file_extension": ".py",
   "mimetype": "text/x-python",
   "name": "python",
   "nbconvert_exporter": "python",
   "pygments_lexer": "ipython3",
   "version": "3.10.9"
  },
  "vscode": {
   "interpreter": {
    "hash": "59b7dc6dbaa4379156f8b839d9d69bcf29bd8a89674e026915a77e02d87c7f54"
   }
  }
 },
 "nbformat": 4,
 "nbformat_minor": 4
}
