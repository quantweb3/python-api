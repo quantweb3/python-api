{
 "cells": [
  {
   "cell_type": "code",
   "execution_count": null,
   "metadata": {},
   "outputs": [],
   "source": [
    "%reload_ext autoreload\n",
    "%autoreload 2\n",
    "\n",
    "from __future__ import (absolute_import, division, print_function, unicode_literals)\n",
    "import backtrader as bt\n",
    "import pandas as pd\n",
    "from datetime import datetime\n",
    "from colorama import Fore, Back, Style\n",
    "import sys\n",
    "from pprint import pprint\n",
    "from IPython.display import clear_output\n",
    "import IPython\n",
    "from IPython.display import display_html\n",
    "from btplotting import BacktraderPlottingLive\n",
    "from btplotting import BacktraderPlotting\n",
    "import matplotlib \n",
    "matplotlib.rc(\"font\", family='Microsoft YaHei')# 增加\n",
    "\n",
    "\n",
    "sys.path.append(\"..\")\n",
    "from TestStrategy import TestStrategy\n",
    " \n",
    "\n",
    "from tools.debuger import *\n",
    "\n",
    "# debug(sys)\n",
    "\n",
    "cerebro = bt.Cerebro()\n",
    "\n",
    "cerebro.addstrategy(TestStrategy )\n",
    "\n",
    "#获取数据\n",
    "stock_hfq_df = pd.read_csv(\"./sz000001.csv\",index_col='date',parse_dates=True)\n",
    "start_date = datetime(2019, 8, 1)  # 回测开始时间\n",
    "end_date = datetime(2022, 8, 30)  # 回测结束时间\n",
    "data = bt.feeds.PandasData(dataname=stock_hfq_df, fromdate=start_date, todate=end_date)  # 加载数据\n",
    "cerebro.adddata(data)  # 将数据传入回测系统\n",
    "\n",
    "\n",
    "cerebro.broker.setcash(100)\n",
    "# cerebro.addanalyzer(BacktraderPlottingLive)\n",
    "cerebro.run()\n",
    "# %matplotlib widget \n",
    "# %matplotlib inline \n",
    "\n",
    "\n",
    "# output_mode='save', filename='chart.html'\n",
    "p = BacktraderPlotting(style='bar', output_mode='save', filename='abc.html' )\n",
    "\n",
    "# ,iplot=False,\n",
    "print(\"---show start-------->\")\n",
    "print(\"--show end--------->\")\n",
    "cerebro.plot(p , iplot=False)\n",
    "    \n",
    "# cerebro.plot()\n",
    "# cerebro.plot( style='bar',iplot=False)\n",
    "\n",
    "\n",
    "\n"
   ]
  },
  {
   "cell_type": "markdown",
   "metadata": {},
   "source": []
  }
 ],
 "metadata": {
  "kernelspec": {
   "display_name": "Python 3 (ipykernel)",
   "language": "python",
   "name": "python3"
  },
  "language_info": {
   "codemirror_mode": {
    "name": "ipython",
    "version": 3
   },
   "file_extension": ".py",
   "mimetype": "text/x-python",
   "name": "python",
   "nbconvert_exporter": "python",
   "pygments_lexer": "ipython3",
   "version": "3.9.16"
  },
  "vscode": {
   "interpreter": {
    "hash": "19bc69108c6c31a50b46eee8a0d60fb6d16ceaa246cec151a3c2311e35503f99"
   }
  }
 },
 "nbformat": 4,
 "nbformat_minor": 4
}
