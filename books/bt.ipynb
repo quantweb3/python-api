{
 "cells": [
  {
   "cell_type": "code",
   "execution_count": 1,
   "metadata": {},
   "outputs": [
    {
     "name": "stdout",
     "output_type": "stream",
     "text": [
      "TestStrategy __init   &&&&&\n",
      "Bias __init__\n",
      "good day\n",
      "\u001b[31m>>>>>>>>>>\n",
      "当前可用资金 86.23\n",
      "当前总资产 99.97\n",
      "当前持仓量 1\n",
      "当前持仓成本 13.77\n",
      "\u001b[31m<<<<<<<<<<<<<\n",
      "\u001b[0m\n"
     ]
    },
    {
     "data": {
      "text/plain": [
       "[[<Figure size 1280x960 with 5 Axes>]]"
      ]
     },
     "execution_count": 1,
     "metadata": {},
     "output_type": "execute_result"
    }
   ],
   "source": [
    "%reload_ext autoreload\n",
    "%autoreload 2\n",
    "\n",
    "from __future__ import (absolute_import, division, print_function, unicode_literals)\n",
    "import backtrader as bt\n",
    "import pandas as pd\n",
    "from datetime import datetime\n",
    "from colorama import Fore, Back, Style\n",
    "import sys\n",
    "from pprint import pprint\n",
    "from IPython.display import clear_output\n",
    "import IPython\n",
    "from IPython.display import display_html\n",
    "\n",
    "import matplotlib \n",
    "matplotlib.rc(\"font\", family='Microsoft YaHei')# 增加\n",
    "\n",
    "\n",
    "sys.path.append(\"..\")\n",
    "from TestStrategy import TestStrategy\n",
    "# from NoStrategy import NoStrategy\n",
    "\n",
    "\n",
    "\n",
    "\n",
    "cerebro = bt.Cerebro()\n",
    "\n",
    "# 增加一个策略\n",
    "cerebro.addstrategy(TestStrategy )\n",
    "\n",
    "#获取数据\n",
    "stock_hfq_df = pd.read_csv(\"./sz000001.csv\",index_col='date',parse_dates=True)\n",
    "start_date = datetime(2019, 8, 1)  # 回测开始时间\n",
    "end_date = datetime(2022, 8, 30)  # 回测结束时间\n",
    "data = bt.feeds.PandasData(dataname=stock_hfq_df, fromdate=start_date, todate=end_date)  # 加载数据\n",
    "cerebro.adddata(data)  # 将数据传入回测系统\n",
    "\n",
    "\n",
    "cerebro.broker.setcash(100)\n",
    "\n",
    "cerebro.run()\n",
    "%matplotlib widget \n",
    "cerebro.plot( style='bar',iplot=False)\n",
    "\n",
    "\n"
   ]
  }
 ],
 "metadata": {
  "kernelspec": {
   "display_name": "python3916",
   "language": "python",
   "name": "python3"
  },
  "language_info": {
   "codemirror_mode": {
    "name": "ipython",
    "version": 3
   },
   "file_extension": ".py",
   "mimetype": "text/x-python",
   "name": "python",
   "nbconvert_exporter": "python",
   "pygments_lexer": "ipython3",
   "version": "3.9.16"
  },
  "vscode": {
   "interpreter": {
    "hash": "19bc69108c6c31a50b46eee8a0d60fb6d16ceaa246cec151a3c2311e35503f99"
   }
  }
 },
 "nbformat": 4,
 "nbformat_minor": 4
}
