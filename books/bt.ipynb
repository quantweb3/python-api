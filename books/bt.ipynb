{
 "cells": [
  {
   "cell_type": "code",
   "execution_count": 14,
   "metadata": {},
   "outputs": [
    {
     "name": "stdout",
     "output_type": "stream",
     "text": [
      "TestStrategy __init   &&&&&\n",
      "Bias __init__\n",
      "good day\n"
     ]
    }
   ],
   "source": [
    "# % reload_ext autoreload\n",
    "# % autoreload 2\n",
    "\n",
    "from __future__ import (absolute_import, division, print_function, unicode_literals)\n",
    "import backtrader as bt\n",
    "import pandas as pd\n",
    "from datetime import datetime\n",
    "from colorama import Fore, Back, Style\n",
    "import sys\n",
    "from pprint import pprint\n",
    "from IPython.display import clear_output\n",
    "import IPython\n",
    "from IPython.display import display_html\n",
    "\n",
    "import matplotlib\n",
    "\n",
    "matplotlib.rc(\"font\", family='Microsoft YaHei')  # 增加\n",
    "\n",
    "sys.path.append(\"..\")\n",
    "from TestStrategy import TestStrategy\n",
    "# from NoStrategy import NoStrategy\n",
    "\n",
    "from tools.debuger import *\n",
    "\n",
    "# debug(sys)\n",
    "\n",
    "Cerebrot = bt.Cerebro()\n",
    "\n",
    "# 增加一个策略\n",
    "Cerebrot.addstrategy(TestStrategy)\n",
    "\n",
    "#获取数据\n",
    "stock_hfq_df = pd.read_csv(\"./sz000001.csv\", index_col='date', parse_dates=True)\n",
    "start_date = datetime(2019, 8, 1)  # 回测开始时间\n",
    "end_date = datetime(2022, 8, 30)  # 回测结束时间\n",
    "data = bt.feeds.PandasData(dataname=stock_hfq_df, fromdate=start_date, todate=end_date)  # 加载数据\n",
    "Cerebrot.adddata(data)  # 将数据传入回测系统\n",
    "\n",
    "Cerebrot.broker.setcash(100)\n",
    "\n",
    "Cerebrot.run()\n",
    "# %matplotlib widget\n",
    "Cerebrot.plot(style='bar', iplot=False)\n",
    "\n",
    "\n"
   ]
  },
  {
   "cell_type": "code",
   "execution_count": 14,
   "outputs": [],
   "source": [],
   "metadata": {
    "collapsed": false
   }
  }
 ],
 "metadata": {
  "kernelspec": {
   "display_name": "Python 3 (ipykernel)",
   "language": "python",
   "name": "python3"
  },
  "language_info": {
   "codemirror_mode": {
    "name": "ipython",
    "version": 3
   },
   "file_extension": ".py",
   "mimetype": "text/x-python",
   "name": "python",
   "nbconvert_exporter": "python",
   "pygments_lexer": "ipython3",
   "version": "3.9.16"
  },
  "vscode": {
   "interpreter": {
    "hash": "19bc69108c6c31a50b46eee8a0d60fb6d16ceaa246cec151a3c2311e35503f99"
   }
  }
 },
 "nbformat": 4,
 "nbformat_minor": 4
}
