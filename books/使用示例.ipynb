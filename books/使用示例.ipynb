{
 "cells": [
  {
   "cell_type": "code",
   "execution_count": 1,
   "metadata": {
    "collapsed": true
   },
   "outputs": [
    {
     "data": {
      "text/plain": "<pyecharts.render.display.Javascript at 0x1c0dcdfb548>",
      "application/javascript": "new Promise(function(resolve, reject) {\n    var script = document.createElement(\"script\");\n    script.onload = resolve;\n    script.onerror = reject;\n    script.src = \"https://assets.pyecharts.org/assets/echarts.min.js\";\n    document.head.appendChild(script);\n}).then(() => {\n\n});"
     },
     "execution_count": 1,
     "metadata": {},
     "output_type": "execute_result"
    }
   ],
   "source": [
    "import pandas as pd\n",
    "from chanlun import cl\n",
    "from chanlun import kcharts\n",
    "\n",
    "### 避免在 Notebook 中不显示，手动加载下依赖的js\n",
    "###　https://pyecharts.org/#/zh-cn/notebook\n",
    "from pyecharts.charts import Kline, Line, Bar, Grid, Scatter\n",
    "from pyecharts.globals import CurrentConfig, NotebookType\n",
    "\n",
    "CurrentConfig.NOTEBOOK_TYPE = NotebookType.JUPYTER_LAB  # 根据使用的环境设置 notebook 类型， NotebookType.JUPYTER_LAB 或 NotebookType.JUPYTER_NOTEBOOK\n",
    "Kline().load_javascript()\n",
    "Line().load_javascript()\n",
    "Bar().load_javascript()\n",
    "Grid().load_javascript()\n",
    "Scatter().load_javascript()"
   ]
  },
  {
   "cell_type": "markdown",
   "source": [
    "## 缠论配置项\n",
    "* bi_type: 默认值 old；old 老笔 new 新笔 dd 顶底成笔\n",
    "* no_bi： 默认值 False；False 笔未出现结束分型，不计入笔；  True  笔未出结束分型，但是符合成笔条件，计入笔\n",
    "* no_xd:  默认值 False；False 线段未出现结束序列分型，不计入线段；True 线段未出现结束序列分析，但是符合成线段的条件，计入线段\n",
    "* fx_baohan: 默认值 False；False 不允许有分型包含条件成笔； True 允许有分型包含成笔\n",
    "* idx_macd_fast: 默认值 12；MACD 指标快线参数\n",
    "* idx_macd_slow: 默认值 26；MACD 指标慢线参数\n",
    "* idx_macd_signal: 默认值 9；MACD 移动平均周期\n",
    "* idx_boll_period：默认值 20；布林线参数\n",
    "* idx_ma_period：默认值 5；均线参数\n",
    "\n",
    "## 画图配置\n",
    "* show_bi_zs：默认值 True；是否显示笔中枢\n",
    "* show_xd_zs：默认值 True；是否显示线段中枢\n",
    "* show_bi_mmd：默认值 True；是否显示笔的买卖点\n",
    "* show_xd_mmd：默认值 True；是否显示线段的买卖点\n",
    "* show_bi_bc：默认值 True；是否显示笔背驰\n",
    "* show_xd_bc：默认值 True；是否显示线段背驰\n",
    "* show_ma：默认值 True；是否显示均线\n",
    "* show_boll：默认值 True；是否显示布林线"
   ],
   "metadata": {
    "collapsed": false,
    "pycharm": {
     "name": "#%% md\n"
    }
   }
  },
  {
   "cell_type": "code",
   "execution_count": 2,
   "outputs": [
    {
     "data": {
      "text/plain": "          code                 date   open  close   high    low     volume\n0    SH.688122  2021-09-27 10:00:00  75.67  73.99  76.80  73.40  1142100.0\n1    SH.688122  2021-09-27 10:30:00  73.80  72.18  73.98  71.60  2450700.0\n2    SH.688122  2021-09-27 11:00:00  72.19  71.33  72.71  70.83  1041900.0\n3    SH.688122  2021-09-27 11:30:00  71.17  69.81  71.67  69.00  1369800.0\n4    SH.688122  2021-09-27 13:30:00  70.10  73.11  73.11  69.81  1074100.0\n5    SH.688122  2021-09-27 14:00:00  73.01  73.14  73.35  72.80   617200.0\n6    SH.688122  2021-09-27 14:30:00  73.14  73.17  73.49  73.00   351800.0\n7    SH.688122  2021-09-27 15:00:00  73.17  72.75  73.44  72.75   712500.0\n8    SH.688122  2021-09-28 10:00:00  72.75  74.20  74.29  72.05   863600.0\n9    SH.688122  2021-09-28 10:30:00  74.20  74.33  75.10  73.59   595700.0\n10   SH.688122  2021-09-28 11:00:00  74.38  74.03  74.52  73.77   267400.0\n11   SH.688122  2021-09-28 11:30:00  74.00  74.26  74.41  73.73   210800.0\n12   SH.688122  2021-09-28 13:30:00  74.35  74.11  74.76  73.98   305100.0\n13   SH.688122  2021-09-28 14:00:00  74.30  74.99  74.99  73.96   330300.0\n14   SH.688122  2021-09-28 14:30:00  74.99  74.08  75.38  74.02   691000.0\n15   SH.688122  2021-09-28 15:00:00  74.08  74.12  74.30  73.80   339100.0\n16   SH.688122  2021-09-29 10:00:00  73.99  72.96  74.50  72.52   544700.0\n17   SH.688122  2021-09-29 10:30:00  72.96  71.87  73.38  71.71   451800.0\n18   SH.688122  2021-09-29 11:00:00  71.80  71.70  72.56  71.28   406100.0\n19   SH.688122  2021-09-29 11:30:00  71.65  71.86  72.44  71.23   560700.0\n20   SH.688122  2021-09-29 13:30:00  71.70  72.66  72.74  71.40   361700.0\n21   SH.688122  2021-09-29 14:00:00  72.50  72.12  72.50  72.11   159400.0\n22   SH.688122  2021-09-29 14:30:00  72.12  71.20  72.32  71.00   262300.0\n23   SH.688122  2021-09-29 15:00:00  71.27  71.53  71.76  70.91   474900.0\n24   SH.688122  2021-09-30 10:00:00  70.50  71.94  72.99  70.31  1440700.0\n25   SH.688122  2021-09-30 10:30:00  71.89  69.96  72.00  69.90  1126300.0\n26   SH.688122  2021-09-30 11:00:00  69.95  70.55  70.95  69.80   701200.0\n27   SH.688122  2021-09-30 11:30:00  70.56  71.15  71.43  70.56   334300.0\n28   SH.688122  2021-09-30 13:30:00  71.15  70.88  71.99  70.78   780100.0\n29   SH.688122  2021-09-30 14:00:00  70.89  70.51  71.36  70.51   419700.0\n..         ...                  ...    ...    ...    ...    ...        ...\n770  SH.688122  2022-02-23 11:00:00  78.31  79.97  79.99  78.31  1379500.0\n771  SH.688122  2022-02-23 11:30:00  79.81  79.94  81.50  79.80  1059500.0\n772  SH.688122  2022-02-23 13:30:00  79.92  80.55  80.86  79.20   684800.0\n773  SH.688122  2022-02-23 14:00:00  80.55  80.50  80.78  80.13   455400.0\n774  SH.688122  2022-02-23 14:30:00  80.50  80.14  80.63  80.11   406700.0\n775  SH.688122  2022-02-23 15:00:00  80.14  80.06  80.61  79.57   615400.0\n776  SH.688122  2022-02-24 10:00:00  79.80  79.45  80.88  78.66   987300.0\n777  SH.688122  2022-02-24 10:30:00  79.52  79.63  80.00  79.31   304900.0\n778  SH.688122  2022-02-24 11:00:00  79.63  80.30  80.60  79.58   409900.0\n779  SH.688122  2022-02-24 11:30:00  80.19  79.33  80.31  79.11   576400.0\n780  SH.688122  2022-02-24 13:30:00  79.30  80.19  81.01  78.35  1003700.0\n781  SH.688122  2022-02-24 14:00:00  80.19  80.88  81.66  79.11  1096100.0\n782  SH.688122  2022-02-24 14:30:00  80.80  79.95  80.80  78.88   837800.0\n783  SH.688122  2022-02-24 15:00:00  79.84  80.36  80.53  79.82   658200.0\n784  SH.688122  2022-02-25 10:00:00  80.34  80.50  80.92  79.30   871500.0\n785  SH.688122  2022-02-25 10:30:00  80.60  83.21  83.29  80.01  1356500.0\n786  SH.688122  2022-02-25 11:00:00  83.12  83.44  83.57  82.19   711300.0\n787  SH.688122  2022-02-25 11:30:00  83.43  81.80  83.43  81.80   694900.0\n788  SH.688122  2022-02-25 13:30:00  81.68  82.80  82.88  81.52  1095800.0\n789  SH.688122  2022-02-25 14:00:00  82.80  82.95  83.50  82.65   720000.0\n790  SH.688122  2022-02-25 14:30:00  82.95  83.05  83.18  82.50   601200.0\n791  SH.688122  2022-02-25 15:00:00  83.05  82.72  83.09  82.22   481100.0\n792  SH.688122  2022-02-28 10:00:00  85.22  85.12  86.22  83.76  2528100.0\n793  SH.688122  2022-02-28 10:30:00  85.18  86.10  86.63  84.26  1526600.0\n794  SH.688122  2022-02-28 11:00:00  86.15  84.97  86.27  84.88   865400.0\n795  SH.688122  2022-02-28 11:30:00  84.97  85.31  85.50  84.66   579400.0\n796  SH.688122  2022-02-28 13:30:00  85.11  85.22  85.67  84.69   688700.0\n797  SH.688122  2022-02-28 14:00:00  85.31  84.28  85.31  84.11   573200.0\n798  SH.688122  2022-02-28 14:30:00  84.28  84.92  85.07  84.11   529400.0\n799  SH.688122  2022-02-28 15:00:00  84.98  85.93  85.93  84.60   818600.0\n\n[800 rows x 7 columns]",
      "text/html": "<div>\n<style scoped>\n    .dataframe tbody tr th:only-of-type {\n        vertical-align: middle;\n    }\n\n    .dataframe tbody tr th {\n        vertical-align: top;\n    }\n\n    .dataframe thead th {\n        text-align: right;\n    }\n</style>\n<table border=\"1\" class=\"dataframe\">\n  <thead>\n    <tr style=\"text-align: right;\">\n      <th></th>\n      <th>code</th>\n      <th>date</th>\n      <th>open</th>\n      <th>close</th>\n      <th>high</th>\n      <th>low</th>\n      <th>volume</th>\n    </tr>\n  </thead>\n  <tbody>\n    <tr>\n      <th>0</th>\n      <td>SH.688122</td>\n      <td>2021-09-27 10:00:00</td>\n      <td>75.67</td>\n      <td>73.99</td>\n      <td>76.80</td>\n      <td>73.40</td>\n      <td>1142100.0</td>\n    </tr>\n    <tr>\n      <th>1</th>\n      <td>SH.688122</td>\n      <td>2021-09-27 10:30:00</td>\n      <td>73.80</td>\n      <td>72.18</td>\n      <td>73.98</td>\n      <td>71.60</td>\n      <td>2450700.0</td>\n    </tr>\n    <tr>\n      <th>2</th>\n      <td>SH.688122</td>\n      <td>2021-09-27 11:00:00</td>\n      <td>72.19</td>\n      <td>71.33</td>\n      <td>72.71</td>\n      <td>70.83</td>\n      <td>1041900.0</td>\n    </tr>\n    <tr>\n      <th>3</th>\n      <td>SH.688122</td>\n      <td>2021-09-27 11:30:00</td>\n      <td>71.17</td>\n      <td>69.81</td>\n      <td>71.67</td>\n      <td>69.00</td>\n      <td>1369800.0</td>\n    </tr>\n    <tr>\n      <th>4</th>\n      <td>SH.688122</td>\n      <td>2021-09-27 13:30:00</td>\n      <td>70.10</td>\n      <td>73.11</td>\n      <td>73.11</td>\n      <td>69.81</td>\n      <td>1074100.0</td>\n    </tr>\n    <tr>\n      <th>5</th>\n      <td>SH.688122</td>\n      <td>2021-09-27 14:00:00</td>\n      <td>73.01</td>\n      <td>73.14</td>\n      <td>73.35</td>\n      <td>72.80</td>\n      <td>617200.0</td>\n    </tr>\n    <tr>\n      <th>6</th>\n      <td>SH.688122</td>\n      <td>2021-09-27 14:30:00</td>\n      <td>73.14</td>\n      <td>73.17</td>\n      <td>73.49</td>\n      <td>73.00</td>\n      <td>351800.0</td>\n    </tr>\n    <tr>\n      <th>7</th>\n      <td>SH.688122</td>\n      <td>2021-09-27 15:00:00</td>\n      <td>73.17</td>\n      <td>72.75</td>\n      <td>73.44</td>\n      <td>72.75</td>\n      <td>712500.0</td>\n    </tr>\n    <tr>\n      <th>8</th>\n      <td>SH.688122</td>\n      <td>2021-09-28 10:00:00</td>\n      <td>72.75</td>\n      <td>74.20</td>\n      <td>74.29</td>\n      <td>72.05</td>\n      <td>863600.0</td>\n    </tr>\n    <tr>\n      <th>9</th>\n      <td>SH.688122</td>\n      <td>2021-09-28 10:30:00</td>\n      <td>74.20</td>\n      <td>74.33</td>\n      <td>75.10</td>\n      <td>73.59</td>\n      <td>595700.0</td>\n    </tr>\n    <tr>\n      <th>10</th>\n      <td>SH.688122</td>\n      <td>2021-09-28 11:00:00</td>\n      <td>74.38</td>\n      <td>74.03</td>\n      <td>74.52</td>\n      <td>73.77</td>\n      <td>267400.0</td>\n    </tr>\n    <tr>\n      <th>11</th>\n      <td>SH.688122</td>\n      <td>2021-09-28 11:30:00</td>\n      <td>74.00</td>\n      <td>74.26</td>\n      <td>74.41</td>\n      <td>73.73</td>\n      <td>210800.0</td>\n    </tr>\n    <tr>\n      <th>12</th>\n      <td>SH.688122</td>\n      <td>2021-09-28 13:30:00</td>\n      <td>74.35</td>\n      <td>74.11</td>\n      <td>74.76</td>\n      <td>73.98</td>\n      <td>305100.0</td>\n    </tr>\n    <tr>\n      <th>13</th>\n      <td>SH.688122</td>\n      <td>2021-09-28 14:00:00</td>\n      <td>74.30</td>\n      <td>74.99</td>\n      <td>74.99</td>\n      <td>73.96</td>\n      <td>330300.0</td>\n    </tr>\n    <tr>\n      <th>14</th>\n      <td>SH.688122</td>\n      <td>2021-09-28 14:30:00</td>\n      <td>74.99</td>\n      <td>74.08</td>\n      <td>75.38</td>\n      <td>74.02</td>\n      <td>691000.0</td>\n    </tr>\n    <tr>\n      <th>15</th>\n      <td>SH.688122</td>\n      <td>2021-09-28 15:00:00</td>\n      <td>74.08</td>\n      <td>74.12</td>\n      <td>74.30</td>\n      <td>73.80</td>\n      <td>339100.0</td>\n    </tr>\n    <tr>\n      <th>16</th>\n      <td>SH.688122</td>\n      <td>2021-09-29 10:00:00</td>\n      <td>73.99</td>\n      <td>72.96</td>\n      <td>74.50</td>\n      <td>72.52</td>\n      <td>544700.0</td>\n    </tr>\n    <tr>\n      <th>17</th>\n      <td>SH.688122</td>\n      <td>2021-09-29 10:30:00</td>\n      <td>72.96</td>\n      <td>71.87</td>\n      <td>73.38</td>\n      <td>71.71</td>\n      <td>451800.0</td>\n    </tr>\n    <tr>\n      <th>18</th>\n      <td>SH.688122</td>\n      <td>2021-09-29 11:00:00</td>\n      <td>71.80</td>\n      <td>71.70</td>\n      <td>72.56</td>\n      <td>71.28</td>\n      <td>406100.0</td>\n    </tr>\n    <tr>\n      <th>19</th>\n      <td>SH.688122</td>\n      <td>2021-09-29 11:30:00</td>\n      <td>71.65</td>\n      <td>71.86</td>\n      <td>72.44</td>\n      <td>71.23</td>\n      <td>560700.0</td>\n    </tr>\n    <tr>\n      <th>20</th>\n      <td>SH.688122</td>\n      <td>2021-09-29 13:30:00</td>\n      <td>71.70</td>\n      <td>72.66</td>\n      <td>72.74</td>\n      <td>71.40</td>\n      <td>361700.0</td>\n    </tr>\n    <tr>\n      <th>21</th>\n      <td>SH.688122</td>\n      <td>2021-09-29 14:00:00</td>\n      <td>72.50</td>\n      <td>72.12</td>\n      <td>72.50</td>\n      <td>72.11</td>\n      <td>159400.0</td>\n    </tr>\n    <tr>\n      <th>22</th>\n      <td>SH.688122</td>\n      <td>2021-09-29 14:30:00</td>\n      <td>72.12</td>\n      <td>71.20</td>\n      <td>72.32</td>\n      <td>71.00</td>\n      <td>262300.0</td>\n    </tr>\n    <tr>\n      <th>23</th>\n      <td>SH.688122</td>\n      <td>2021-09-29 15:00:00</td>\n      <td>71.27</td>\n      <td>71.53</td>\n      <td>71.76</td>\n      <td>70.91</td>\n      <td>474900.0</td>\n    </tr>\n    <tr>\n      <th>24</th>\n      <td>SH.688122</td>\n      <td>2021-09-30 10:00:00</td>\n      <td>70.50</td>\n      <td>71.94</td>\n      <td>72.99</td>\n      <td>70.31</td>\n      <td>1440700.0</td>\n    </tr>\n    <tr>\n      <th>25</th>\n      <td>SH.688122</td>\n      <td>2021-09-30 10:30:00</td>\n      <td>71.89</td>\n      <td>69.96</td>\n      <td>72.00</td>\n      <td>69.90</td>\n      <td>1126300.0</td>\n    </tr>\n    <tr>\n      <th>26</th>\n      <td>SH.688122</td>\n      <td>2021-09-30 11:00:00</td>\n      <td>69.95</td>\n      <td>70.55</td>\n      <td>70.95</td>\n      <td>69.80</td>\n      <td>701200.0</td>\n    </tr>\n    <tr>\n      <th>27</th>\n      <td>SH.688122</td>\n      <td>2021-09-30 11:30:00</td>\n      <td>70.56</td>\n      <td>71.15</td>\n      <td>71.43</td>\n      <td>70.56</td>\n      <td>334300.0</td>\n    </tr>\n    <tr>\n      <th>28</th>\n      <td>SH.688122</td>\n      <td>2021-09-30 13:30:00</td>\n      <td>71.15</td>\n      <td>70.88</td>\n      <td>71.99</td>\n      <td>70.78</td>\n      <td>780100.0</td>\n    </tr>\n    <tr>\n      <th>29</th>\n      <td>SH.688122</td>\n      <td>2021-09-30 14:00:00</td>\n      <td>70.89</td>\n      <td>70.51</td>\n      <td>71.36</td>\n      <td>70.51</td>\n      <td>419700.0</td>\n    </tr>\n    <tr>\n      <th>...</th>\n      <td>...</td>\n      <td>...</td>\n      <td>...</td>\n      <td>...</td>\n      <td>...</td>\n      <td>...</td>\n      <td>...</td>\n    </tr>\n    <tr>\n      <th>770</th>\n      <td>SH.688122</td>\n      <td>2022-02-23 11:00:00</td>\n      <td>78.31</td>\n      <td>79.97</td>\n      <td>79.99</td>\n      <td>78.31</td>\n      <td>1379500.0</td>\n    </tr>\n    <tr>\n      <th>771</th>\n      <td>SH.688122</td>\n      <td>2022-02-23 11:30:00</td>\n      <td>79.81</td>\n      <td>79.94</td>\n      <td>81.50</td>\n      <td>79.80</td>\n      <td>1059500.0</td>\n    </tr>\n    <tr>\n      <th>772</th>\n      <td>SH.688122</td>\n      <td>2022-02-23 13:30:00</td>\n      <td>79.92</td>\n      <td>80.55</td>\n      <td>80.86</td>\n      <td>79.20</td>\n      <td>684800.0</td>\n    </tr>\n    <tr>\n      <th>773</th>\n      <td>SH.688122</td>\n      <td>2022-02-23 14:00:00</td>\n      <td>80.55</td>\n      <td>80.50</td>\n      <td>80.78</td>\n      <td>80.13</td>\n      <td>455400.0</td>\n    </tr>\n    <tr>\n      <th>774</th>\n      <td>SH.688122</td>\n      <td>2022-02-23 14:30:00</td>\n      <td>80.50</td>\n      <td>80.14</td>\n      <td>80.63</td>\n      <td>80.11</td>\n      <td>406700.0</td>\n    </tr>\n    <tr>\n      <th>775</th>\n      <td>SH.688122</td>\n      <td>2022-02-23 15:00:00</td>\n      <td>80.14</td>\n      <td>80.06</td>\n      <td>80.61</td>\n      <td>79.57</td>\n      <td>615400.0</td>\n    </tr>\n    <tr>\n      <th>776</th>\n      <td>SH.688122</td>\n      <td>2022-02-24 10:00:00</td>\n      <td>79.80</td>\n      <td>79.45</td>\n      <td>80.88</td>\n      <td>78.66</td>\n      <td>987300.0</td>\n    </tr>\n    <tr>\n      <th>777</th>\n      <td>SH.688122</td>\n      <td>2022-02-24 10:30:00</td>\n      <td>79.52</td>\n      <td>79.63</td>\n      <td>80.00</td>\n      <td>79.31</td>\n      <td>304900.0</td>\n    </tr>\n    <tr>\n      <th>778</th>\n      <td>SH.688122</td>\n      <td>2022-02-24 11:00:00</td>\n      <td>79.63</td>\n      <td>80.30</td>\n      <td>80.60</td>\n      <td>79.58</td>\n      <td>409900.0</td>\n    </tr>\n    <tr>\n      <th>779</th>\n      <td>SH.688122</td>\n      <td>2022-02-24 11:30:00</td>\n      <td>80.19</td>\n      <td>79.33</td>\n      <td>80.31</td>\n      <td>79.11</td>\n      <td>576400.0</td>\n    </tr>\n    <tr>\n      <th>780</th>\n      <td>SH.688122</td>\n      <td>2022-02-24 13:30:00</td>\n      <td>79.30</td>\n      <td>80.19</td>\n      <td>81.01</td>\n      <td>78.35</td>\n      <td>1003700.0</td>\n    </tr>\n    <tr>\n      <th>781</th>\n      <td>SH.688122</td>\n      <td>2022-02-24 14:00:00</td>\n      <td>80.19</td>\n      <td>80.88</td>\n      <td>81.66</td>\n      <td>79.11</td>\n      <td>1096100.0</td>\n    </tr>\n    <tr>\n      <th>782</th>\n      <td>SH.688122</td>\n      <td>2022-02-24 14:30:00</td>\n      <td>80.80</td>\n      <td>79.95</td>\n      <td>80.80</td>\n      <td>78.88</td>\n      <td>837800.0</td>\n    </tr>\n    <tr>\n      <th>783</th>\n      <td>SH.688122</td>\n      <td>2022-02-24 15:00:00</td>\n      <td>79.84</td>\n      <td>80.36</td>\n      <td>80.53</td>\n      <td>79.82</td>\n      <td>658200.0</td>\n    </tr>\n    <tr>\n      <th>784</th>\n      <td>SH.688122</td>\n      <td>2022-02-25 10:00:00</td>\n      <td>80.34</td>\n      <td>80.50</td>\n      <td>80.92</td>\n      <td>79.30</td>\n      <td>871500.0</td>\n    </tr>\n    <tr>\n      <th>785</th>\n      <td>SH.688122</td>\n      <td>2022-02-25 10:30:00</td>\n      <td>80.60</td>\n      <td>83.21</td>\n      <td>83.29</td>\n      <td>80.01</td>\n      <td>1356500.0</td>\n    </tr>\n    <tr>\n      <th>786</th>\n      <td>SH.688122</td>\n      <td>2022-02-25 11:00:00</td>\n      <td>83.12</td>\n      <td>83.44</td>\n      <td>83.57</td>\n      <td>82.19</td>\n      <td>711300.0</td>\n    </tr>\n    <tr>\n      <th>787</th>\n      <td>SH.688122</td>\n      <td>2022-02-25 11:30:00</td>\n      <td>83.43</td>\n      <td>81.80</td>\n      <td>83.43</td>\n      <td>81.80</td>\n      <td>694900.0</td>\n    </tr>\n    <tr>\n      <th>788</th>\n      <td>SH.688122</td>\n      <td>2022-02-25 13:30:00</td>\n      <td>81.68</td>\n      <td>82.80</td>\n      <td>82.88</td>\n      <td>81.52</td>\n      <td>1095800.0</td>\n    </tr>\n    <tr>\n      <th>789</th>\n      <td>SH.688122</td>\n      <td>2022-02-25 14:00:00</td>\n      <td>82.80</td>\n      <td>82.95</td>\n      <td>83.50</td>\n      <td>82.65</td>\n      <td>720000.0</td>\n    </tr>\n    <tr>\n      <th>790</th>\n      <td>SH.688122</td>\n      <td>2022-02-25 14:30:00</td>\n      <td>82.95</td>\n      <td>83.05</td>\n      <td>83.18</td>\n      <td>82.50</td>\n      <td>601200.0</td>\n    </tr>\n    <tr>\n      <th>791</th>\n      <td>SH.688122</td>\n      <td>2022-02-25 15:00:00</td>\n      <td>83.05</td>\n      <td>82.72</td>\n      <td>83.09</td>\n      <td>82.22</td>\n      <td>481100.0</td>\n    </tr>\n    <tr>\n      <th>792</th>\n      <td>SH.688122</td>\n      <td>2022-02-28 10:00:00</td>\n      <td>85.22</td>\n      <td>85.12</td>\n      <td>86.22</td>\n      <td>83.76</td>\n      <td>2528100.0</td>\n    </tr>\n    <tr>\n      <th>793</th>\n      <td>SH.688122</td>\n      <td>2022-02-28 10:30:00</td>\n      <td>85.18</td>\n      <td>86.10</td>\n      <td>86.63</td>\n      <td>84.26</td>\n      <td>1526600.0</td>\n    </tr>\n    <tr>\n      <th>794</th>\n      <td>SH.688122</td>\n      <td>2022-02-28 11:00:00</td>\n      <td>86.15</td>\n      <td>84.97</td>\n      <td>86.27</td>\n      <td>84.88</td>\n      <td>865400.0</td>\n    </tr>\n    <tr>\n      <th>795</th>\n      <td>SH.688122</td>\n      <td>2022-02-28 11:30:00</td>\n      <td>84.97</td>\n      <td>85.31</td>\n      <td>85.50</td>\n      <td>84.66</td>\n      <td>579400.0</td>\n    </tr>\n    <tr>\n      <th>796</th>\n      <td>SH.688122</td>\n      <td>2022-02-28 13:30:00</td>\n      <td>85.11</td>\n      <td>85.22</td>\n      <td>85.67</td>\n      <td>84.69</td>\n      <td>688700.0</td>\n    </tr>\n    <tr>\n      <th>797</th>\n      <td>SH.688122</td>\n      <td>2022-02-28 14:00:00</td>\n      <td>85.31</td>\n      <td>84.28</td>\n      <td>85.31</td>\n      <td>84.11</td>\n      <td>573200.0</td>\n    </tr>\n    <tr>\n      <th>798</th>\n      <td>SH.688122</td>\n      <td>2022-02-28 14:30:00</td>\n      <td>84.28</td>\n      <td>84.92</td>\n      <td>85.07</td>\n      <td>84.11</td>\n      <td>529400.0</td>\n    </tr>\n    <tr>\n      <th>799</th>\n      <td>SH.688122</td>\n      <td>2022-02-28 15:00:00</td>\n      <td>84.98</td>\n      <td>85.93</td>\n      <td>85.93</td>\n      <td>84.60</td>\n      <td>818600.0</td>\n    </tr>\n  </tbody>\n</table>\n<p>800 rows × 7 columns</p>\n</div>"
     },
     "execution_count": 2,
     "metadata": {},
     "output_type": "execute_result"
    }
   ],
   "source": [
    "# 获取 行情K线数据\n",
    "code = 'SH.688122'\n",
    "frequency = '30m'\n",
    "# 缠论配置（bi_type: 笔类型，取值 old 老笔，new 新笔，dd 顶底成笔） （no_bi: 是否画未成的笔，取值 True 画，False 不画） （no_xd：是否画未成的线段，取值 True 画，False 不画）\n",
    "cl_config = {'bi_type': 'old', 'no_bi': False, 'no_xd': False, 'fx_baohan': True}\n",
    "# 缠论画图配置\n",
    "chart_config = {'show_bi_zs': True, 'show_ma': False}\n",
    "klines = pd.read_csv('./data/688122.csv')\n",
    "klines\n"
   ],
   "metadata": {
    "collapsed": false,
    "pycharm": {
     "name": "#%%\n"
    }
   }
  },
  {
   "cell_type": "code",
   "execution_count": 3,
   "outputs": [],
   "source": [
    "# 依据 K 线数据，计算缠论数据\n",
    "cl_data = cl.CL(code, frequency, cl_config).process_klines(klines)\n",
    "chart = kcharts.render_charts('%s - %s' % (code, frequency), cl_data, config=chart_config)"
   ],
   "metadata": {
    "collapsed": false,
    "pycharm": {
     "name": "#%%\n"
    }
   }
  },
  {
   "cell_type": "code",
   "execution_count": null,
   "outputs": [],
   "source": [
    "# 展示图标\n",
    "chart"
   ],
   "metadata": {
    "collapsed": false,
    "pycharm": {
     "name": "#%%\n",
     "is_executing": true
    }
   }
  },
  {
   "cell_type": "code",
   "execution_count": 6,
   "outputs": [
    {
     "name": "stdout",
     "output_type": "stream",
     "text": [
      "Last Bi :  index: 38 type: up FX: (240 - 251) high: 86.63 low: 73.7 done: True\n",
      "Last Zs :  index: 19 zs_type: bi level: 0 FX: (222-251) type: zd zg: 79.39 zd: 76.0 gg: 86.63 dd: 73.7 done: False\n"
     ]
    }
   ],
   "source": [
    "# 获取最后一笔\n",
    "bi = cl_data.bis[-1]\n",
    "print('Last Bi : ', bi)\n",
    "# 获取最后一个中枢\n",
    "zs = cl_data.bi_zss[-1]\n",
    "print('Last Zs : ', zs)"
   ],
   "metadata": {
    "collapsed": false,
    "pycharm": {
     "name": "#%%\n"
    }
   }
  },
  {
   "cell_type": "code",
   "execution_count": 10,
   "outputs": [
    {
     "name": "stdout",
     "output_type": "stream",
     "text": [
      "BI MMDS :  ['l2sell']\n",
      "BI BC :  ['bi', 'pz']\n",
      "BI 笔背驰： True\n",
      "BI 盘整背驰： True\n",
      "BI 趋势背驰： False\n"
     ]
    }
   ],
   "source": [
    "# 判断笔是否背驰，是否有买卖点\n",
    "bi = cl_data.bis[-17]\n",
    "print('BI MMDS : ', bi.line_mmds())\n",
    "print('BI BC : ', [_bc.type for _bc in bi.bcs if _bc.bc])\n",
    "print('BI 笔背驰：', bi.bc_exists(['bi']))\n",
    "print('BI 盘整背驰：', bi.bc_exists(['pz']))\n",
    "print('BI 趋势背驰：', bi.bc_exists(['qs']))"
   ],
   "metadata": {
    "collapsed": false,
    "pycharm": {
     "name": "#%%\n"
    }
   }
  },
  {
   "cell_type": "code",
   "execution_count": 11,
   "outputs": [
    {
     "name": "stdout",
     "output_type": "stream",
     "text": [
      "MMD: l2sell ZS: index: 8 zs_type: bi level: 1 FX: (106-161) type: down zg: 94.05 zd: 89.8 gg: 97.75 dd: 86.2 done: True\n",
      "买卖点对应的中枢： index: 8 zs_type: bi level: 1 FX: (106-161) type: down zg: 94.05 zd: 89.8 gg: 97.75 dd: 86.2 done: True\n"
     ]
    }
   ],
   "source": [
    "# 买卖点信息\n",
    "mmd = bi.mmds[0]\n",
    "print(mmd)\n",
    "print('买卖点对应的中枢：', mmd.zs)"
   ],
   "metadata": {
    "collapsed": false,
    "pycharm": {
     "name": "#%%\n"
    }
   }
  },
  {
   "cell_type": "markdown",
   "source": [
    "## Html 页面展示\n",
    "\n",
    "### 服务端代码\n",
    "    return HttpResponse(kcharts.render_charts('标题', cl_datas))\n",
    "\n",
    "### 页面 Ajax 接收并展示\n",
    "    var chart = echarts.init(document.getElementById('chart_id'), 'white', {renderer: 'canvas'});\n",
    "    $.ajax({\n",
    "        type: \"GET\",\n",
    "        url: \"/后端请求地址\",\n",
    "        success: function (result) {\n",
    "            var res = (new Function(\"return \" + result))();\n",
    "            chart.setOption(res);\n",
    "        }\n",
    "    });"
   ],
   "metadata": {
    "collapsed": false,
    "pycharm": {
     "name": "#%% md\n"
    }
   }
  },
  {
   "cell_type": "code",
   "execution_count": null,
   "outputs": [],
   "source": [],
   "metadata": {
    "collapsed": false,
    "pycharm": {
     "name": "#%%\n"
    }
   }
  }
 ],
 "metadata": {
  "kernelspec": {
   "display_name": "Python 3",
   "language": "python",
   "name": "python3"
  },
  "language_info": {
   "codemirror_mode": {
    "name": "ipython",
    "version": 2
   },
   "file_extension": ".py",
   "mimetype": "text/x-python",
   "name": "python",
   "nbconvert_exporter": "python",
   "pygments_lexer": "ipython2",
   "version": "2.7.6"
  }
 },
 "nbformat": 4,
 "nbformat_minor": 0
}